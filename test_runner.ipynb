{
 "cells": [
  {
   "cell_type": "code",
   "execution_count": null,
   "metadata": {},
   "outputs": [],
   "source": [
    "import numpy as np\n",
    "import pandas as pd\n",
    "import matplotlib.pyplot as plt\n",
    "import os"
   ]
  },
  {
   "cell_type": "code",
   "execution_count": null,
   "metadata": {},
   "outputs": [],
   "source": [
    "distrib_results = {}\n",
    "resulting_table = pd.DataFrame()"
   ]
  },
  {
   "cell_type": "code",
   "execution_count": null,
   "metadata": {},
   "outputs": [],
   "source": [
    "def distribution_test(function_name, bucket_count = 0):\n",
    "    global distrib_results, resulting_table\n",
    "\n",
    "    os.system(\"make rm\")\n",
    "    os.system(\"make CASE_FLAGS=\\\"-D TESTED_HASH=\" + function_name + \" -D DISTRIBUTION_TEST\" + ((\" -D BUCKET_COUNT=\" + str(bucket_count)) if bucket_count else \"\") + \"\\\"\")\n",
    "    os.system(\"make run\")\n",
    "\n",
    "    bucket_suffix = (\"_ext\" + str(bucket_count)) if bucket_count else \"\"\n",
    "\n",
    "    file_name = \"distribution_\" + function_name + bucket_suffix + \".csv\"\n",
    "\n",
    "    os.system(\"mv build/output.csv results/\" + file_name)\n",
    "\n",
    "    table = pd.read_csv(\"results/\" + file_name)\n",
    "\n",
    "    plt.plot(table[\"bucket_id\"], table[\"size\"], ds=\"steps-mid\")\n",
    "    plt.plot([0], [0])  # Force matplotlib to scale Y axis to fit 0 (yscale can not cover this case...)\n",
    "\n",
    "    plt.title(function_name.replace(\"_\", \" \"))\n",
    "    plt.xlabel(\"Hash\")\n",
    "    plt.ylabel(\"Size\")\n",
    "\n",
    "    distrib_results[function_name + bucket_suffix] = table\n",
    "    resulting_table[function_name + bucket_suffix] = table[\"size\"]\n",
    "\n",
    "    return table"
   ]
  },
  {
   "cell_type": "code",
   "execution_count": null,
   "metadata": {},
   "outputs": [],
   "source": [
    "distribution_test(\"constant_hash\")"
   ]
  },
  {
   "cell_type": "code",
   "execution_count": null,
   "metadata": {},
   "outputs": [],
   "source": [
    "distribution_test(\"first_char_hash\")"
   ]
  },
  {
   "cell_type": "code",
   "execution_count": null,
   "metadata": {},
   "outputs": [],
   "source": [
    "distribution_test(\"length_hash\")"
   ]
  },
  {
   "cell_type": "code",
   "execution_count": null,
   "metadata": {},
   "outputs": [],
   "source": [
    "distribution_test(\"sum_hash\")"
   ]
  },
  {
   "cell_type": "code",
   "execution_count": null,
   "metadata": {},
   "outputs": [],
   "source": [
    "distribution_test(\"left_shift_hash\")"
   ]
  },
  {
   "cell_type": "code",
   "execution_count": null,
   "metadata": {},
   "outputs": [],
   "source": [
    "distribution_test(\"right_shift_hash\")"
   ]
  },
  {
   "cell_type": "code",
   "execution_count": null,
   "metadata": {},
   "outputs": [],
   "source": [
    "distribution_test(\"murmur_hash\")"
   ]
  },
  {
   "cell_type": "code",
   "execution_count": null,
   "metadata": {},
   "outputs": [],
   "source": [
    "distribution_test(\"sum_hash\", bucket_count=2027)"
   ]
  },
  {
   "cell_type": "code",
   "execution_count": null,
   "metadata": {},
   "outputs": [],
   "source": [
    "distribution_test(\"left_shift_hash\", bucket_count=2027)"
   ]
  },
  {
   "cell_type": "code",
   "execution_count": null,
   "metadata": {},
   "outputs": [],
   "source": [
    "distribution_test(\"right_shift_hash\", bucket_count=2027)"
   ]
  },
  {
   "cell_type": "code",
   "execution_count": null,
   "metadata": {},
   "outputs": [],
   "source": [
    "distribution_test(\"murmur_hash\", bucket_count=2027)"
   ]
  },
  {
   "cell_type": "code",
   "execution_count": null,
   "metadata": {},
   "outputs": [],
   "source": [
    "resulting_table.to_csv(\"results/combined.csv\")"
   ]
  },
  {
   "cell_type": "code",
   "execution_count": null,
   "metadata": {},
   "outputs": [],
   "source": [
    "for function in distrib_results.keys():\n",
    "    plt.plot(distrib_results[function][\"bucket_id\"], distrib_results[function][\"size\"], ds=\"steps-mid\", label=function.replace(\"_\", \" \"))\n",
    "\n",
    "plt.plot([0], [0])  # Force matplotlib to scale Y axis to fit 0 (yscale can not cover this case...)\n",
    "\n",
    "plt.title(\"all functions\")\n",
    "plt.legend()\n",
    "plt.xlabel(\"Hash\")\n",
    "plt.ylabel(\"Size\")"
   ]
  },
  {
   "cell_type": "code",
   "execution_count": null,
   "metadata": {},
   "outputs": [],
   "source": [
    "for function in distrib_results.keys() - [\"constant_hash\"]:\n",
    "    plt.plot(distrib_results[function][\"bucket_id\"], distrib_results[function][\"size\"], ds=\"steps-mid\", label=function.replace(\"_\", \" \"))\n",
    "\n",
    "plt.plot([0], [0])  # Force matplotlib to scale Y axis to fit 0 (yscale can not cover this case...)\n",
    "\n",
    "plt.title(\"all functions except const_hash\")\n",
    "plt.legend()\n",
    "plt.xlabel(\"Hash\")\n",
    "plt.ylabel(\"Size\")"
   ]
  }
 ],
 "metadata": {
  "kernelspec": {
   "display_name": "Python 3",
   "language": "python",
   "name": "python3"
  },
  "language_info": {
   "codemirror_mode": {
    "name": "ipython",
    "version": 3
   },
   "file_extension": ".py",
   "mimetype": "text/x-python",
   "name": "python",
   "nbconvert_exporter": "python",
   "pygments_lexer": "ipython3",
   "version": "3.8.10"
  },
  "orig_nbformat": 4
 },
 "nbformat": 4,
 "nbformat_minor": 2
}
